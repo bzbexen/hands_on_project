number = int(input("Please enter your number: "))
prime = []
for num in range(2,number+1):
    for i in range(2,num):
        if (num%i==0):
            break
    else:
        prime.append(num)
print(prime)
